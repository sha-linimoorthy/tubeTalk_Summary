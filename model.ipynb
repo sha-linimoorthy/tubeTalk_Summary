{
  "nbformat": 4,
  "nbformat_minor": 0,
  "metadata": {
    "colab": {
      "provenance": [],
      "gpuType": "T4",
      "authorship_tag": "ABX9TyMi4Pu1Vlh+hXppXuuuo5b4",
      "include_colab_link": true
    },
    "kernelspec": {
      "name": "python3",
      "display_name": "Python 3"
    },
    "language_info": {
      "name": "python"
    },
    "accelerator": "GPU"
  },
  "cells": [
    {
      "cell_type": "markdown",
      "metadata": {
        "id": "view-in-github",
        "colab_type": "text"
      },
      "source": [
        "<a href=\"https://colab.research.google.com/github/sha-linimoorthy/tubeTalk_Summary/blob/main/model.ipynb\" target=\"_parent\"><img src=\"https://colab.research.google.com/assets/colab-badge.svg\" alt=\"Open In Colab\"/></a>"
      ]
    },
    {
      "cell_type": "code",
      "execution_count": null,
      "metadata": {
        "id": "Xx4dg7RFquLx"
      },
      "outputs": [],
      "source": [
        "!pip install pytube pydub torch transformers accelerate"
      ]
    },
    {
      "cell_type": "code",
      "source": [
        "import torch\n",
        "from transformers import AutoModelForSpeechSeq2Seq, AutoProcessor, pipeline\n",
        "import pytube\n",
        "from pydub import AudioSegment\n",
        "import nltk\n",
        "nltk.download('punkt')\n",
        "nltk.download('stopwords')\n",
        "from nltk.corpus import stopwords\n",
        "from nltk.tokenize import word_tokenize, sent_tokenize"
      ],
      "metadata": {
        "colab": {
          "base_uri": "https://localhost:8080/"
        },
        "id": "4SRg3uDkrE2n",
        "outputId": "0a484059-e783-4f47-c853-6c0d96938d29"
      },
      "execution_count": null,
      "outputs": [
        {
          "output_type": "stream",
          "name": "stderr",
          "text": [
            "[nltk_data] Downloading package punkt to /root/nltk_data...\n",
            "[nltk_data]   Package punkt is already up-to-date!\n",
            "[nltk_data] Downloading package stopwords to /root/nltk_data...\n",
            "[nltk_data]   Package stopwords is already up-to-date!\n"
          ]
        }
      ]
    },
    {
      "cell_type": "code",
      "source": [
        "def download_and_convert_audio(video_url, output_directory=\".\"):\n",
        "    try:\n",
        "        # Create the output directory if it doesn't exist\n",
        "        yt = pytube.YouTube(video_url)\n",
        "        audio_stream = yt.streams.filter(only_audio=True).first()\n",
        "        audio_file_path = audio_stream.download(output_directory)\n",
        "\n",
        "        # Convert the audio to MP3 format\n",
        "        audio = AudioSegment.from_file(audio_file_path, format=\"mp4\")\n",
        "        mp3_output_path = f\"{output_directory}/audio.mp3\"\n",
        "        audio.export(mp3_output_path, format=\"mp3\")\n",
        "\n",
        "        print(\"Audio downloaded and saved as audio.mp3 successfully.\")\n",
        "    except Exception as e:\n",
        "        print(f\"Failed to download and convert audio: {str(e)}\")\n",
        "\n",
        "if __name__ == \"__main__\":\n",
        "    video_url = \"https://youtu.be/ky5ZB-mqZKM?si=czI_FovoXTosFqe8\"\n",
        "    download_and_convert_audio(video_url)\n",
        "device = \"cuda:0\" if torch.cuda.is_available() else \"cpu\"\n",
        "torch_dtype = torch.float16 if torch.cuda.is_available() else torch.float32\n",
        "\n",
        "model_id = \"distil-whisper/distil-medium.en\"\n",
        "!pip install accelerate\n",
        "model = AutoModelForSpeechSeq2Seq.from_pretrained(\n",
        "    model_id, torch_dtype=torch_dtype, use_safetensors=True\n",
        ")\n",
        "model.to(device)\n",
        "\n",
        "processor = AutoProcessor.from_pretrained(model_id)\n",
        "\n",
        "pipe = pipeline(\n",
        "    \"automatic-speech-recognition\",\n",
        "    model=model,\n",
        "    tokenizer=processor.tokenizer,\n",
        "    feature_extractor=processor.feature_extractor,\n",
        "    max_new_tokens=128,\n",
        "    torch_dtype=torch_dtype,\n",
        "    device=device,\n",
        ")\n",
        "\n",
        "# Pass the path to your local audio file\n",
        "audio_file_path = \"/content/audio.mp3\"\n",
        "\n",
        "# Read the audio file and pass it to the pipeline\n",
        "result = pipe(audio_file_path)\n",
        "print(result[\"text\"])\n"
      ],
      "metadata": {
        "id": "lMtDiR1yrFD2"
      },
      "execution_count": null,
      "outputs": []
    },
    {
      "cell_type": "code",
      "source": [
        "text = result[\"text\"]\n",
        "stopWords = set(stopwords.words(\"english\"))\n",
        "words = word_tokenize(text)\n",
        "freqTable = dict()\n",
        "for word in words:\n",
        "\tword = word.lower()\n",
        "\tif word in stopWords:\n",
        "\t\tcontinue\n",
        "\tif word in freqTable:\n",
        "\t\tfreqTable[word] += 1\n",
        "\telse:\n",
        "\t\tfreqTable[word] = 1\n",
        "sentences = sent_tokenize(text)\n",
        "sentenceValue = dict()\n",
        "\n",
        "for sentence in sentences:\n",
        "\tfor word, freq in freqTable.items():\n",
        "\t\tif word in sentence.lower():\n",
        "\t\t\tif sentence in sentenceValue:\n",
        "\t\t\t\tsentenceValue[sentence] += freq\n",
        "\t\t\telse:\n",
        "\t\t\t\tsentenceValue[sentence] = freq\n",
        "\n",
        "sumValues = 0\n",
        "for sentence in sentenceValue:\n",
        "\tsumValues += sentenceValue[sentence]\n",
        "average = int(sumValues / len(sentenceValue))\n",
        "summary = ''\n",
        "for sentence in sentences:\n",
        "\tif (sentence in sentenceValue) and (sentenceValue[sentence] > (1.2 * average)):\n",
        "\t\tsummary += \" \" + sentence\n",
        "print(summary)\n"
      ],
      "metadata": {
        "id": "5dEkzfsVqwVw",
        "colab": {
          "base_uri": "https://localhost:8080/"
        },
        "outputId": "22265446-f933-4651-c23b-9f39deadf1a9"
      },
      "execution_count": null,
      "outputs": [
        {
          "output_type": "stream",
          "name": "stdout",
          "text": [
            " She's an Instagram model from Barcelona who's been going viral, but she's also just like totally chill and down to earth. She's into fitness and video games and yeah if you're wondering she does have additional photos on our subscription tier which brings in about 10 grand per month. Before you sign up though there's one thing I need to disclose and it really shouldn't matter unless you're some kind of big it technophobic not see but she's not a biological female.\n"
          ]
        }
      ]
    },
    {
      "cell_type": "code",
      "source": [
        "import tkinter as tk\n",
        "from tkinter import messagebox\n",
        "\n",
        "# Download and convert audio function\n",
        "def download_and_convert_audio(video_url, output_directory=\".\"):\n",
        "    try:\n",
        "        # Create the output directory if it doesn't exist\n",
        "        yt = YouTube(video_url)\n",
        "        audio_stream = yt.streams.filter(only_audio=True).first()\n",
        "        audio_file_path = audio_stream.download(output_directory)\n",
        "\n",
        "        # Convert the audio to MP3 format\n",
        "        audio = AudioSegment.from_file(audio_file_path, format=\"mp4\")\n",
        "        mp3_output_path = f\"{output_directory}/audio.mp3\"\n",
        "        audio.export(mp3_output_path, format=\"mp3\")\n",
        "\n",
        "        messagebox.showinfo(\"Success\", \"Audio downloaded and saved as audio.mp3 successfully.\")\n",
        "    except Exception as e:\n",
        "        messagebox.showerror(\"Error\", f\"Failed to download and convert audio: {str(e)}\")\n",
        "\n",
        "# Transcription and summarization function\n",
        "def transcribe_and_summarize(audio_file_path):\n",
        "    result = pipe(audio_file_path)\n",
        "    text = result[\"text\"]\n",
        "    stopWords = set(stopwords.words(\"english\"))\n",
        "    words = word_tokenize(text)\n",
        "    freqTable = dict()\n",
        "\n",
        "    for word in words:\n",
        "        word = word.lower()\n",
        "        if word in stopWords:\n",
        "            continue\n",
        "        if word in freqTable:\n",
        "            freqTable[word] += 1\n",
        "        else:\n",
        "            freqTable[word] = 1\n",
        "\n",
        "    sentences = sent_tokenize(text)\n",
        "    sentenceValue = dict()\n",
        "\n",
        "    for sentence in sentences:\n",
        "        for word, freq in freqTable.items():\n",
        "            if word in sentence.lower():\n",
        "                if sentence in sentenceValue:\n",
        "                    sentenceValue[sentence] += freq\n",
        "                else:\n",
        "                    sentenceValue[sentence] = freq\n",
        "\n",
        "    sumValues = 0\n",
        "    for sentence in sentenceValue:\n",
        "        sumValues += sentenceValue[sentence]\n",
        "    average = int(sumValues / len(sentenceValue))\n",
        "    summary = ''\n",
        "\n",
        "    for sentence in sentences:\n",
        "        if (sentence in sentenceValue) and (sentenceValue[sentence] > (1.2 * average)):\n",
        "            summary += \" \" + sentence\n",
        "\n",
        "    return summary\n",
        "\n",
        "# GUI setup\n",
        "def process_video():\n",
        "    video_url = url_entry.get()\n",
        "    download_and_convert_audio(video_url, output_directory=\"/content\")\n",
        "    audio_file_path = \"/content/audio.mp3\"\n",
        "    summary_text = transcribe_and_summarize(audio_file_path)\n",
        "    summary_textbox.delete(\"1.0\", tk.END)\n",
        "    summary_textbox.insert(tk.END, summary_text)\n",
        "\n",
        "# Main GUI window\n",
        "root = tk.Tk()\n",
        "root.title(\"YouTube Audio Summarizer\")\n",
        "\n",
        "# UI components\n",
        "url_label = tk.Label(root, text=\"Enter YouTube URL:\")\n",
        "url_label.pack()\n",
        "\n",
        "url_entry = tk.Entry(root, width=50)\n",
        "url_entry.pack()\n",
        "\n",
        "process_button = tk.Button(root, text=\"Process Video\", command=process_video)\n",
        "process_button.pack()\n",
        "\n",
        "summary_textbox = tk.Text(root, height=10, width=70)\n",
        "summary_textbox.pack()\n",
        "\n",
        "copy_button = tk.Button(root, text=\"Copy to Clipboard\", command=lambda: root.clipboard_append(summary_textbox.get(\"1.0\", tk.END)))\n",
        "copy_button.pack()\n",
        "\n",
        "root.mainloop()\n"
      ],
      "metadata": {
        "id": "Rc7ZY1_gqwim",
        "colab": {
          "base_uri": "https://localhost:8080/",
          "height": 366
        },
        "outputId": "43e62f8a-53a1-4b84-8d38-a99989edd3ef"
      },
      "execution_count": null,
      "outputs": [
        {
          "output_type": "error",
          "ename": "TclError",
          "evalue": "ignored",
          "traceback": [
            "\u001b[0;31m---------------------------------------------------------------------------\u001b[0m",
            "\u001b[0;31mTclError\u001b[0m                                  Traceback (most recent call last)",
            "\u001b[0;32m<ipython-input-17-fb71077c0e93>\u001b[0m in \u001b[0;36m<cell line: 71>\u001b[0;34m()\u001b[0m\n\u001b[1;32m     69\u001b[0m \u001b[0;34m\u001b[0m\u001b[0m\n\u001b[1;32m     70\u001b[0m \u001b[0;31m# Main GUI window\u001b[0m\u001b[0;34m\u001b[0m\u001b[0;34m\u001b[0m\u001b[0m\n\u001b[0;32m---> 71\u001b[0;31m \u001b[0mroot\u001b[0m \u001b[0;34m=\u001b[0m \u001b[0mtk\u001b[0m\u001b[0;34m.\u001b[0m\u001b[0mTk\u001b[0m\u001b[0;34m(\u001b[0m\u001b[0;34m)\u001b[0m\u001b[0;34m\u001b[0m\u001b[0;34m\u001b[0m\u001b[0m\n\u001b[0m\u001b[1;32m     72\u001b[0m \u001b[0mroot\u001b[0m\u001b[0;34m.\u001b[0m\u001b[0mtitle\u001b[0m\u001b[0;34m(\u001b[0m\u001b[0;34m\"YouTube Audio Summarizer\"\u001b[0m\u001b[0;34m)\u001b[0m\u001b[0;34m\u001b[0m\u001b[0;34m\u001b[0m\u001b[0m\n\u001b[1;32m     73\u001b[0m \u001b[0;34m\u001b[0m\u001b[0m\n",
            "\u001b[0;32m/usr/lib/python3.10/tkinter/__init__.py\u001b[0m in \u001b[0;36m__init__\u001b[0;34m(self, screenName, baseName, className, useTk, sync, use)\u001b[0m\n\u001b[1;32m   2297\u001b[0m                 \u001b[0mbaseName\u001b[0m \u001b[0;34m=\u001b[0m \u001b[0mbaseName\u001b[0m \u001b[0;34m+\u001b[0m \u001b[0mext\u001b[0m\u001b[0;34m\u001b[0m\u001b[0;34m\u001b[0m\u001b[0m\n\u001b[1;32m   2298\u001b[0m         \u001b[0minteractive\u001b[0m \u001b[0;34m=\u001b[0m \u001b[0;32mFalse\u001b[0m\u001b[0;34m\u001b[0m\u001b[0;34m\u001b[0m\u001b[0m\n\u001b[0;32m-> 2299\u001b[0;31m         \u001b[0mself\u001b[0m\u001b[0;34m.\u001b[0m\u001b[0mtk\u001b[0m \u001b[0;34m=\u001b[0m \u001b[0m_tkinter\u001b[0m\u001b[0;34m.\u001b[0m\u001b[0mcreate\u001b[0m\u001b[0;34m(\u001b[0m\u001b[0mscreenName\u001b[0m\u001b[0;34m,\u001b[0m \u001b[0mbaseName\u001b[0m\u001b[0;34m,\u001b[0m \u001b[0mclassName\u001b[0m\u001b[0;34m,\u001b[0m \u001b[0minteractive\u001b[0m\u001b[0;34m,\u001b[0m \u001b[0mwantobjects\u001b[0m\u001b[0;34m,\u001b[0m \u001b[0museTk\u001b[0m\u001b[0;34m,\u001b[0m \u001b[0msync\u001b[0m\u001b[0;34m,\u001b[0m \u001b[0muse\u001b[0m\u001b[0;34m)\u001b[0m\u001b[0;34m\u001b[0m\u001b[0;34m\u001b[0m\u001b[0m\n\u001b[0m\u001b[1;32m   2300\u001b[0m         \u001b[0;32mif\u001b[0m \u001b[0museTk\u001b[0m\u001b[0;34m:\u001b[0m\u001b[0;34m\u001b[0m\u001b[0;34m\u001b[0m\u001b[0m\n\u001b[1;32m   2301\u001b[0m             \u001b[0mself\u001b[0m\u001b[0;34m.\u001b[0m\u001b[0m_loadtk\u001b[0m\u001b[0;34m(\u001b[0m\u001b[0;34m)\u001b[0m\u001b[0;34m\u001b[0m\u001b[0;34m\u001b[0m\u001b[0m\n",
            "\u001b[0;31mTclError\u001b[0m: no display name and no $DISPLAY environment variable"
          ]
        }
      ]
    },
    {
      "cell_type": "code",
      "source": [],
      "metadata": {
        "id": "2pXkt3tDvH_F"
      },
      "execution_count": null,
      "outputs": []
    }
  ]
}